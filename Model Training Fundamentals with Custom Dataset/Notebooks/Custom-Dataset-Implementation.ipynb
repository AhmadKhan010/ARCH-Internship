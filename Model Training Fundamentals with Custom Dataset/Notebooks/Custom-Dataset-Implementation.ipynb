{
 "cells": [
  {
   "cell_type": "markdown",
   "id": "93ab4b03",
   "metadata": {},
   "source": [
    "# Custom Dataset Implementation"
   ]
  },
  {
   "cell_type": "markdown",
   "id": "d40872b3",
   "metadata": {},
   "source": [
    "### Import Required Libraries"
   ]
  },
  {
   "cell_type": "code",
   "execution_count": 1,
   "id": "99c400cc",
   "metadata": {},
   "outputs": [],
   "source": [
    "# Data handling\n",
    "import pandas as pd\n",
    "import numpy as np\n",
    "\n",
    "# Visualization\n",
    "import matplotlib.pyplot as plt\n",
    "import seaborn as sns\n",
    "\n",
    "# Preprocessing and modeling\n",
    "from sklearn.model_selection import train_test_split\n",
    "from sklearn.impute import SimpleImputer\n",
    "from sklearn.preprocessing import StandardScaler, OneHotEncoder\n",
    "from sklearn.compose import ColumnTransformer\n",
    "from sklearn.pipeline import Pipeline\n",
    "from sklearn.linear_model import LinearRegression, Ridge, Lasso\n",
    "from sklearn.ensemble import RandomForestRegressor\n",
    "from sklearn.metrics import mean_squared_error\n"
   ]
  },
  {
   "cell_type": "markdown",
   "id": "7d29a8c9",
   "metadata": {},
   "source": [
    "#### a) Choose a Dataset"
   ]
  },
  {
   "cell_type": "code",
   "execution_count": 4,
   "id": "ad02a4b7",
   "metadata": {},
   "outputs": [
    {
     "name": "stdout",
     "output_type": "stream",
     "text": [
      "           ADDRESS      SUBURB   PRICE  BEDROOMS  BATHROOMS  GARAGE  \\\n",
      "0    1 Acorn Place  South Lake  565000         4          2     2.0   \n",
      "1      1 Addis Way       Wandi  365000         3          2     2.0   \n",
      "2  1 Ainsley Court     Camillo  287000         3          1     1.0   \n",
      "3  1 Albert Street    Bellevue  255000         2          1     2.0   \n",
      "4     1 Aman Place   Lockridge  325000         4          1     2.0   \n",
      "\n",
      "   LAND_AREA  FLOOR_AREA  BUILD_YEAR  CBD_DIST               NEAREST_STN  \\\n",
      "0        600         160      2003.0     18300  Cockburn Central Station   \n",
      "1        351         139      2013.0     26900           Kwinana Station   \n",
      "2        719          86      1979.0     22600           Challis Station   \n",
      "3        651          59      1953.0     17900           Midland Station   \n",
      "4        466         131      1998.0     11200        Bassendean Station   \n",
      "\n",
      "   NEAREST_STN_DIST  DATE_SOLD  POSTCODE   LATITUDE   LONGITUDE  \\\n",
      "0              1800  09-2018\\r      6164 -32.115900  115.842450   \n",
      "1              4900  02-2019\\r      6167 -32.193470  115.859554   \n",
      "2              1900  06-2015\\r      6111 -32.120578  115.993579   \n",
      "3              3600  07-2018\\r      6056 -31.900547  116.038009   \n",
      "4              2000  11-2016\\r      6054 -31.885790  115.947780   \n",
      "\n",
      "                    NEAREST_SCH  NEAREST_SCH_DIST  NEAREST_SCH_RANK  \n",
      "0   LAKELAND SENIOR HIGH SCHOOL          0.828339               NaN  \n",
      "1                ATWELL COLLEGE          5.524324             129.0  \n",
      "2  KELMSCOTT SENIOR HIGH SCHOOL          1.649178             113.0  \n",
      "3  SWAN VIEW SENIOR HIGH SCHOOL          1.571401               NaN  \n",
      "4                 KIARA COLLEGE          1.514922               NaN  \n",
      "              PRICE      BEDROOMS     BATHROOMS        GARAGE      LAND_AREA  \\\n",
      "count  3.365600e+04  33656.000000  33656.000000  31178.000000   33656.000000   \n",
      "mean   6.370720e+05      3.659110      1.823063      2.199917    2740.644016   \n",
      "std    3.558256e+05      0.752038      0.587427      1.365225   16693.513215   \n",
      "min    5.100000e+04      1.000000      1.000000      1.000000      61.000000   \n",
      "25%    4.100000e+05      3.000000      1.000000      2.000000     503.000000   \n",
      "50%    5.355000e+05      4.000000      2.000000      2.000000     682.000000   \n",
      "75%    7.600000e+05      4.000000      2.000000      2.000000     838.000000   \n",
      "max    2.440000e+06     10.000000     16.000000     99.000000  999999.000000   \n",
      "\n",
      "         FLOOR_AREA    BUILD_YEAR      CBD_DIST  NEAREST_STN_DIST  \\\n",
      "count  33656.000000  30501.000000  33656.000000      33656.000000   \n",
      "mean     183.501545   1989.706436  19777.374465       4523.371494   \n",
      "std       72.102982     20.964330  11364.415413       4495.064024   \n",
      "min        1.000000   1868.000000    681.000000         46.000000   \n",
      "25%      130.000000   1978.000000  11200.000000       1800.000000   \n",
      "50%      172.000000   1995.000000  17500.000000       3200.000000   \n",
      "75%      222.250000   2005.000000  26600.000000       5300.000000   \n",
      "max      870.000000   2017.000000  59800.000000      35500.000000   \n",
      "\n",
      "           POSTCODE      LATITUDE     LONGITUDE  NEAREST_SCH_DIST  \\\n",
      "count  33656.000000  33656.000000  33656.000000      33656.000000   \n",
      "mean    6089.420074    -31.960664    115.879265          1.815268   \n",
      "std       62.167921      0.177780      0.118137          1.746000   \n",
      "min     6003.000000    -32.472979    115.582730          0.070912   \n",
      "25%     6050.000000    -32.068437    115.789763          0.880568   \n",
      "50%     6069.000000    -31.933231    115.854198          1.345520   \n",
      "75%     6150.000000    -31.843818    115.970722          2.097225   \n",
      "max     6558.000000    -31.457450    116.343201         23.254372   \n",
      "\n",
      "       NEAREST_SCH_RANK  \n",
      "count      22704.000000  \n",
      "mean          72.672569  \n",
      "std           40.639795  \n",
      "min            1.000000  \n",
      "25%           39.000000  \n",
      "50%           68.000000  \n",
      "75%          105.000000  \n",
      "max          139.000000  \n",
      "<class 'pandas.core.frame.DataFrame'>\n",
      "RangeIndex: 33656 entries, 0 to 33655\n",
      "Data columns (total 19 columns):\n",
      " #   Column            Non-Null Count  Dtype  \n",
      "---  ------            --------------  -----  \n",
      " 0   ADDRESS           33656 non-null  object \n",
      " 1   SUBURB            33656 non-null  object \n",
      " 2   PRICE             33656 non-null  int64  \n",
      " 3   BEDROOMS          33656 non-null  int64  \n",
      " 4   BATHROOMS         33656 non-null  int64  \n",
      " 5   GARAGE            31178 non-null  float64\n",
      " 6   LAND_AREA         33656 non-null  int64  \n",
      " 7   FLOOR_AREA        33656 non-null  int64  \n",
      " 8   BUILD_YEAR        30501 non-null  float64\n",
      " 9   CBD_DIST          33656 non-null  int64  \n",
      " 10  NEAREST_STN       33656 non-null  object \n",
      " 11  NEAREST_STN_DIST  33656 non-null  int64  \n",
      " 12  DATE_SOLD         33656 non-null  object \n",
      " 13  POSTCODE          33656 non-null  int64  \n",
      " 14  LATITUDE          33656 non-null  float64\n",
      " 15  LONGITUDE         33656 non-null  float64\n",
      " 16  NEAREST_SCH       33656 non-null  object \n",
      " 17  NEAREST_SCH_DIST  33656 non-null  float64\n",
      " 18  NEAREST_SCH_RANK  22704 non-null  float64\n",
      "dtypes: float64(6), int64(8), object(5)\n",
      "memory usage: 4.9+ MB\n",
      "None\n"
     ]
    }
   ],
   "source": [
    "import pandas as pd\n",
    "df = pd.read_csv('house_prices.csv')\n",
    "print(df.head())\n",
    "print(df.describe())\n",
    "print(df.info())"
   ]
  },
  {
   "cell_type": "markdown",
   "id": "c80e3810",
   "metadata": {},
   "source": [
    "#### b) Clean and Preprocess Initial Columns"
   ]
  },
  {
   "cell_type": "code",
   "execution_count": 5,
   "id": "095800b3",
   "metadata": {},
   "outputs": [
    {
     "name": "stdout",
     "output_type": "stream",
     "text": [
      "<class 'pandas.core.frame.DataFrame'>\n",
      "RangeIndex: 33656 entries, 0 to 33655\n",
      "Data columns (total 19 columns):\n",
      " #   Column            Non-Null Count  Dtype  \n",
      "---  ------            --------------  -----  \n",
      " 0   ADDRESS           33656 non-null  object \n",
      " 1   SUBURB            33656 non-null  object \n",
      " 2   PRICE             33656 non-null  int64  \n",
      " 3   BEDROOMS          33656 non-null  int64  \n",
      " 4   BATHROOMS         33656 non-null  int64  \n",
      " 5   GARAGE            31178 non-null  float64\n",
      " 6   LAND_AREA         33656 non-null  int64  \n",
      " 7   FLOOR_AREA        33656 non-null  int64  \n",
      " 8   BUILD_YEAR        30501 non-null  float64\n",
      " 9   CBD_DIST          33656 non-null  int64  \n",
      " 10  NEAREST_STN       33656 non-null  object \n",
      " 11  NEAREST_STN_DIST  33656 non-null  int64  \n",
      " 12  DATE_SOLD         33656 non-null  object \n",
      " 13  POSTCODE          33656 non-null  int64  \n",
      " 14  LATITUDE          33656 non-null  float64\n",
      " 15  LONGITUDE         33656 non-null  float64\n",
      " 16  NEAREST_SCH       33656 non-null  object \n",
      " 17  NEAREST_SCH_DIST  33656 non-null  float64\n",
      " 18  NEAREST_SCH_RANK  22704 non-null  float64\n",
      "dtypes: float64(6), int64(8), object(5)\n",
      "memory usage: 4.9+ MB\n"
     ]
    }
   ],
   "source": [
    "# Strip whitespace and carriage returns from DATE_SOLD\n",
    "df['DATE_SOLD'] = df['DATE_SOLD'].str.strip()\n",
    "\n",
    "# Drop rows with missing target value\n",
    "df = df.dropna(subset=['PRICE'])\n",
    "\n",
    "# Basic info\n",
    "df.info()\n"
   ]
  },
  {
   "cell_type": "markdown",
   "id": "f05fcd7e",
   "metadata": {},
   "source": [
    "#### c) Split Features and Target Variable"
   ]
  },
  {
   "cell_type": "code",
   "execution_count": 7,
   "id": "7c75e619",
   "metadata": {},
   "outputs": [],
   "source": [
    "# Features (X) and target (y)\n",
    "X = df.drop(columns='PRICE')\n",
    "y = df['PRICE']\n"
   ]
  },
  {
   "cell_type": "markdown",
   "id": "eb834b3a",
   "metadata": {},
   "source": [
    "#### d) Define Numerical and Categorical Features"
   ]
  },
  {
   "cell_type": "code",
   "execution_count": 9,
   "id": "38a56490",
   "metadata": {},
   "outputs": [],
   "source": [
    "numerical_features = ['BEDROOMS', 'BATHROOMS', 'GARAGE', 'LAND_AREA', 'FLOOR_AREA', \n",
    "                      'BUILD_YEAR', 'CBD_DIST', 'NEAREST_STN_DIST', 'POSTCODE',\n",
    "                      'LATITUDE', 'LONGITUDE', 'NEAREST_SCH_DIST', 'NEAREST_SCH_RANK']\n",
    "\n",
    "categorical_features = ['SUBURB', 'NEAREST_STN', 'NEAREST_SCH', 'DATE_SOLD']\n"
   ]
  },
  {
   "cell_type": "markdown",
   "id": "3b53ffad",
   "metadata": {},
   "source": [
    "#### e) Create Preprocessing Pipelines"
   ]
  },
  {
   "cell_type": "code",
   "execution_count": 10,
   "id": "416fdc88",
   "metadata": {},
   "outputs": [],
   "source": [
    "# Numerical pipeline\n",
    "numerical_pipeline = Pipeline(steps=[\n",
    "    ('imputer', SimpleImputer(strategy='median')),\n",
    "    ('scaler', StandardScaler())\n",
    "])\n",
    "\n",
    "# Categorical pipeline\n",
    "categorical_pipeline = Pipeline(steps=[\n",
    "    ('imputer', SimpleImputer(strategy='most_frequent')),\n",
    "    ('onehot', OneHotEncoder(handle_unknown='ignore'))\n",
    "])\n",
    "\n",
    "# Full column transformer\n",
    "preprocessor = ColumnTransformer(\n",
    "    transformers=[\n",
    "        ('num', numerical_pipeline, numerical_features),\n",
    "        ('cat', categorical_pipeline, categorical_features)\n",
    "    ]\n",
    ")\n"
   ]
  },
  {
   "cell_type": "markdown",
   "id": "8b4489c1",
   "metadata": {},
   "source": [
    "#### f) Split Data into Training and Test Sets\n"
   ]
  },
  {
   "cell_type": "code",
   "execution_count": 11,
   "id": "182e7b6f",
   "metadata": {},
   "outputs": [],
   "source": [
    "X_train, X_test, y_train, y_test = train_test_split(\n",
    "    X, y, test_size=0.2, random_state=42)\n"
   ]
  },
  {
   "cell_type": "markdown",
   "id": "8b10d5e3",
   "metadata": {},
   "source": [
    "#### g) Train Multiple Models and Compare RMSE"
   ]
  },
  {
   "cell_type": "code",
   "execution_count": 13,
   "id": "8e4abb8c",
   "metadata": {},
   "outputs": [
    {
     "name": "stdout",
     "output_type": "stream",
     "text": [
      "Linear Regression RMSE: 177625.38\n",
      "Ridge RMSE: 177257.05\n"
     ]
    },
    {
     "name": "stderr",
     "output_type": "stream",
     "text": [
      "c:\\Users\\92343\\AppData\\Local\\Programs\\Python\\Python312\\Lib\\site-packages\\sklearn\\linear_model\\_coordinate_descent.py:656: ConvergenceWarning: Objective did not converge. You might want to increase the number of iterations. Duality gap: 308996556024939.1, tolerance: 337817695383.31683\n",
      "  model = cd_fast.sparse_enet_coordinate_descent(\n"
     ]
    },
    {
     "name": "stdout",
     "output_type": "stream",
     "text": [
      "Lasso RMSE: 178448.60\n",
      "Random Forest RMSE: 170217.09\n"
     ]
    }
   ],
   "source": [
    "# Define models\n",
    "models = {\n",
    "    'Linear Regression': LinearRegression(),\n",
    "    'Ridge': Ridge(alpha=1.0),\n",
    "    'Lasso': Lasso(alpha=0.1),\n",
    "    'Random Forest': RandomForestRegressor(n_estimators=10, random_state=42)\n",
    "}\n",
    "\n",
    "# Store results\n",
    "results = {}\n",
    "\n",
    "# Train and evaluate each model\n",
    "for name, model in models.items():\n",
    "    pipeline = Pipeline(steps=[\n",
    "        ('preprocessor', preprocessor),\n",
    "        ('model', model)\n",
    "    ])\n",
    "    \n",
    "    pipeline.fit(X_train, y_train)\n",
    "    y_pred = pipeline.predict(X_test)\n",
    "    rmse = np.sqrt(mean_squared_error(y_test, y_pred))\n",
    "    results[name] = rmse\n",
    "    print(f'{name} RMSE: {rmse:.2f}')\n"
   ]
  },
  {
   "cell_type": "markdown",
   "id": "14644b0e",
   "metadata": {},
   "source": [
    "#### h) Visualize RMSE Results"
   ]
  },
  {
   "cell_type": "code",
   "execution_count": 14,
   "id": "8a0f10a2",
   "metadata": {},
   "outputs": [
    {
     "data": {
      "image/png": "[encoded data removed]",
      "text/plain": [
       "<Figure size 1000x500 with 1 Axes>"
      ]
     },
     "metadata": {},
     "output_type": "display_data"
    }
   ],
   "source": [
    "plt.figure(figsize=(10, 5))\n",
    "plt.bar(results.keys(), results.values(), color='skyblue')\n",
    "plt.ylabel('RMSE')\n",
    "plt.title('Model Comparison on Test Data')\n",
    "plt.xticks(rotation=15)\n",
    "plt.grid(True, linestyle='--', alpha=0.5)\n",
    "plt.tight_layout()\n",
    "plt.show()\n"
   ]
  }
 ],
 "metadata": {
  "kernelspec": {
   "display_name": "Python 3",
   "language": "python",
   "name": "python3"
  },
  "language_info": {
   "codemirror_mode": {
    "name": "ipython",
    "version": 3
   },
   "file_extension": ".py",
   "mimetype": "text/x-python",
   "name": "python",
   "nbconvert_exporter": "python",
   "pygments_lexer": "ipython3",
   "version": "3.12.4"
  }
 },
 "nbformat": 4,
 "nbformat_minor": 5
}
